{
 "cells": [
  {
   "cell_type": "markdown",
   "id": "2661e97f-c44d-45a1-831d-f1fd71789c55",
   "metadata": {},
   "source": [
    "Comparing school based data to find correlations and make predictions. Data is collected from the California Department of Education at https://www.cde.ca.gov/ds/ad/downloadabledata.asp\n",
    "\n",
    "The variables which I would like to compare are dropout rates, poverty rates and chronic absenteesim. This data is school based, not student based, therefore predictions are difficult to model. \n",
    "\n",
    "Dropout rates by grade, broken down by ethnicity, are available for the years 2010/11 to 2016/17. Chronic absenteesim data is available by school, broken down by ethnicity, from 2016/17 to 2022/23. Poverty data, by way of free or reduced-priced meals, is available by school from the years 2011/12 to 2023/24. No ethnicity data is available for poverty data. \n"
   ]
  }
 ],
 "metadata": {
  "kernelspec": {
   "display_name": "Python 3 (ipykernel)",
   "language": "python",
   "name": "python3"
  },
  "language_info": {
   "codemirror_mode": {
    "name": "ipython",
    "version": 3
   },
   "file_extension": ".py",
   "mimetype": "text/x-python",
   "name": "python",
   "nbconvert_exporter": "python",
   "pygments_lexer": "ipython3",
   "version": "3.11.7"
  }
 },
 "nbformat": 4,
 "nbformat_minor": 5
}
