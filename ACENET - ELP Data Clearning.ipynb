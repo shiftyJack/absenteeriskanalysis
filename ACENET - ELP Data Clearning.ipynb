{
 "cells": [
  {
   "cell_type": "code",
   "execution_count": 34,
   "id": "0e89f742-a67c-44d1-927f-09825dc6cab5",
   "metadata": {},
   "outputs": [],
   "source": [
    "import pandas as pd\n",
    "\n",
    "#converting chronic absentee data from txt files to csv\n",
    "#from 2022 on, DASS column was added so remove for consistency \n",
    "\n",
    "df1 = pd.read_csv(\"chronicabsenteeism23.txt\", delimiter= '\\t', low_memory=False, on_bad_lines='skip', encoding = 'unicode_escape')\n",
    "df1 = df1.drop(\"DASS\", axis='columns')\n",
    "#Only want school based data\n",
    "df1 = df1[df1['Aggregate Level'] == \"S\"]\n",
    "#drop unused columns to make data scrollable\n",
    "df1 = df1.drop(['Aggregate Level', 'County Code', 'District Code', 'School Code', 'County Name', 'Charter School'], axis = 1)\n",
    "#remove student privacy null data\n",
    "df1 = df1[df1['ChronicAbsenteeismCount'] != '*']\n",
    "df1.to_csv('chronicabsenteeism23.csv', index = None)\n",
    "\n",
    "df2 = pd.read_csv(\"chronicabsenteeism22-v3.txt\", delimiter= '\\t', low_memory=False, on_bad_lines='skip', encoding = 'unicode_escape')\n",
    "df2 = df2.drop(\"DASS\", axis='columns')\n",
    "df2 = df2[df2['Aggregate Level'] == \"S\"]\n",
    "df2 = df2.drop(['Aggregate Level', 'County Code', 'District Code', 'School Code', 'County Name', 'Charter School'], axis = 1)\n",
    "df1 = df1[df1['ChronicAbsenteeismCount'] != '*']\n",
    "df2.to_csv('chronicabsenteeism22.csv', index = None)\n",
    "\n",
    "df3 = pd.read_csv(\"chronicabsenteeism21.txt\", delimiter= '\\t', low_memory=False, on_bad_lines='skip', encoding = 'unicode_escape')\n",
    "df3 = df3[df3['Aggregate Level'] == \"S\"]\n",
    "df3 = df3.drop(['Aggregate Level', 'County Code', 'District Code', 'School Code', 'County Name', 'Charter School'], axis = 1)\n",
    "df3 = df3.rename(columns={\"ChronicAbsenteeismEligibleCumula\":\"ChronicAbsenteeismEligibleCumulativeEnrollment\"})\n",
    "df3 = df3[df3['ChronicAbsenteeismRate'].notnull()]\n",
    "df3.to_csv('chronicabsenteeism21.csv', index = None)\n",
    "\n",
    "df4 = pd.read_csv(\"chronicabsenteeism19.txt\", delimiter= '\\t', low_memory=False, on_bad_lines='skip', encoding = 'unicode_escape')\n",
    "df4 = df4[df4['AggregateLevel'] == \"S\"]\n",
    "df4 = df4.drop(['AggregateLevel', 'CountyCode', 'DistrictCode', 'SchoolCode', 'CountyName', 'CharterYN'], axis = 1)\n",
    "df4 = df4.rename(columns={\"AcademicYear\":\"Academic Year\", \"DistrictName\":\"District Name\", \"SchoolName\":\"School Name\", \"ReportingCategory\":\"Reporting Category\", \"ChronicAbsenteeismEligibleCumula\":\"ChronicAbsenteeismEligibleCumulativeEnrollment\"})\n",
    "df4 = df4[df4['ChronicAbsenteeismRate'].notnull()]\n",
    "df4.to_csv('chronicabsenteeism19.csv', index = None)\n",
    "\n",
    "df5 = pd.read_csv(\"chronicabsenteeism18.txt\", delimiter= '\\t', low_memory=False, on_bad_lines='skip', encoding = 'unicode_escape')\n",
    "df5 = df5[df5['AggregateLevel'] == \"S\"]\n",
    "df5 = df5.drop(['AggregateLevel', 'CountyCode', 'DistrictCode', 'SchoolCode', 'CountyName', 'CharterYN'], axis = 1)\n",
    "df5 = df5.rename(columns={\"AcademicYear\":\"Academic Year\", \"DistrictName\":\"District Name\", \"SchoolName\":\"School Name\", \"ReportingCategory\":\"Reporting Category\", \"ChronicAbsenteeismEligibleCumula\":\"ChronicAbsenteeismEligibleCumulativeEnrollment\"})\n",
    "df5 = df5[df5['ChronicAbsenteeismRate'].notnull()]\n",
    "df5.to_csv('chronicabsenteeism18.csv', index = None)\n",
    "\n",
    "df6 = pd.read_csv(\"chronicabsenteeism17.txt\", delimiter= '\\t', low_memory=False, on_bad_lines='skip', encoding = 'unicode_escape')\n",
    "df6 = df6[df6['AggregateLevel'] == \"S\"]\n",
    "df6 = df6.drop(['AggregateLevel', 'CountyCode', 'DistrictCode', 'SchoolCode', 'CountyName', 'CharterYN'], axis = 1)\n",
    "df6 = df6.rename(columns={\"AcademicYear\":\"Academic Year\", \"DistrictName\":\"District Name\", \"SchoolName\":\"School Name\", \"ReportingCategory\":\"Reporting Category\", \"ChronicAbsenteeismEligibleCumula\":\"ChronicAbsenteeismEligibleCumulativeEnrollment\"})\n",
    "df6 = df6[df6['ChronicAbsenteeismRate'].notnull()]\n",
    "df6.to_csv('chronicabsenteeism17.csv', index = None)"
   ]
  },
  {
   "cell_type": "code",
   "execution_count": 27,
   "id": "64dd99ad-50be-4ba5-bb3d-400a1ac46624",
   "metadata": {},
   "outputs": [],
   "source": []
  },
  {
   "cell_type": "code",
   "execution_count": 35,
   "id": "d05a677e-c1dd-45ae-8aac-aaf46f20a99c",
   "metadata": {},
   "outputs": [],
   "source": [
    "#Concatenate all Chronic Absentee data\n",
    "dfAbsentee = pd.concat([df1,df2,df3,df4,df5,df6], ignore_index = True, sort = False)\n",
    "dfAbsentee.to_csv('allChronicAbsentee.csv', index = None)"
   ]
  },
  {
   "cell_type": "code",
   "execution_count": 40,
   "id": "81a7e846-b0ee-43c0-ba0c-59b0c43effcd",
   "metadata": {},
   "outputs": [],
   "source": [
    "df7 = pd.read_excel(\"graduates2223.xlsx\", sheet_name= \"One-Year Graduate (N)\")\n",
    "#Only want school based data\n",
    "df7 = df7[df7['Unnamed: 1'] == \"S\"]\n",
    "df7 = df7.drop(['Unnamed: 1', 'Unnamed: 2', 'Unnamed: 3', 'Unnamed: 4', 'Unnamed: 5'], axis = 1)\n",
    "df7 = df7.rename(columns={\"One-Year Graduate Counts\":\"Academic Year\", \"Unnamed: 6\":\"District Name\", \"Unnamed: 7\":\"School Name\", \"Unnamed: 8\":\"Reporting Category\", \"Unnamed: 9\":\"Graduate count\"})\n",
    "df7.to_csv('graduates23.csv', index = None)\n"
   ]
  },
  {
   "cell_type": "code",
   "execution_count": null,
   "id": "a5825081-38db-42b8-aae2-f10ffaf8509b",
   "metadata": {},
   "outputs": [],
   "source": [
    "#Merging Absentee23 with Graduation23\n",
    "\n",
    "ab23_gr23_merged = [\"Academic Year\", \"School Name\", \"Reporting Category\", \"Enrollment\", \"Absentee Count\", \"Absentee Rate\", \"Graduate Count\"]\n",
    "\n",
    "for x in df1.iterrows():\n",
    "    for y in df7.iterrows():\n",
    "        if (x['School Name'] == y['School Name'] and x['Reporting Category'] == y['Reporting Category']):\n",
    "            merge_line = [x['Academic Year'], x['School Name'], x['Reporting Category'], x['ChronicAbsenteeismEligibleCumulativeEnrollment'], x['ChronicAbsenteeismCount'], x['ChronicAbsenteeismRate'], y['Graduate count']]\n",
    "            ab23_gr23_merged.append(merge_line)\n",
    "            continue\n",
    "            \n",
    "        \n",
    "    \n"
   ]
  },
  {
   "cell_type": "code",
   "execution_count": null,
   "id": "e23e7028-d0b8-4d5f-8d20-aae1f2ae4084",
   "metadata": {},
   "outputs": [],
   "source": [
    "print(ab23_gr23_merged)"
   ]
  },
  {
   "cell_type": "code",
   "execution_count": null,
   "id": "4f23cc79-2c64-418b-a8b2-752e5b78888f",
   "metadata": {},
   "outputs": [],
   "source": []
  }
 ],
 "metadata": {
  "kernelspec": {
   "display_name": "Python 3 (ipykernel)",
   "language": "python",
   "name": "python3"
  },
  "language_info": {
   "codemirror_mode": {
    "name": "ipython",
    "version": 3
   },
   "file_extension": ".py",
   "mimetype": "text/x-python",
   "name": "python",
   "nbconvert_exporter": "python",
   "pygments_lexer": "ipython3",
   "version": "3.11.7"
  }
 },
 "nbformat": 4,
 "nbformat_minor": 5
}
