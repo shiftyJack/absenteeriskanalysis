{
 "cells": [
  {
   "cell_type": "markdown",
   "id": "a7570ca5-a4b2-409e-aeb6-f2aefaa5e469",
   "metadata": {},
   "source": [
    "I will use two files from 2017 in order to compare drop out rates to attendance. Chronicabsenteeis17 contains data on chronic absentees based on grade groupings by school. Dropouts17 contains the number of students who have dropped out by grade during that year. Adding those numbers for the corresponding grade grouping will allow me to compare chronic absenteeism to dropout rates. I could also look at overall poverty rate (school lunch data) for the year to see if the overall poverty rate for the school is correlated with the drop out rate.\n",
    "\n"
   ]
  }
 ],
 "metadata": {
  "kernelspec": {
   "display_name": "Python 3 (ipykernel)",
   "language": "python",
   "name": "python3"
  },
  "language_info": {
   "codemirror_mode": {
    "name": "ipython",
    "version": 3
   },
   "file_extension": ".py",
   "mimetype": "text/x-python",
   "name": "python",
   "nbconvert_exporter": "python",
   "pygments_lexer": "ipython3",
   "version": "3.11.7"
  }
 },
 "nbformat": 4,
 "nbformat_minor": 5
}
